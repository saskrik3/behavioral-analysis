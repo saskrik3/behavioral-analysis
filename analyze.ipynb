{
 "cells": [
  {
   "cell_type": "code",
   "id": "c3c0fc393ead713b",
   "metadata": {},
   "source": [
    "import pandas as pd\n",
    "from pandas import pivot\n",
    "from sklearn.linear_model import LinearRegression\n",
    "\n",
    "# Define the word groups\n",
    "categories = {\n",
    "    'Me': ['I', 'myself', 'my', 'mine', 'self'],\n",
    "    'Not me': ['they', 'them', 'their', 'theirs', 'other'],\n",
    "    'Death': ['die', 'funeral', 'deceased', 'lifeless', 'suicide'],\n",
    "    'Life': ['alive', 'survive', 'thrive', 'breathing', 'live']\n",
    "}"
   ],
   "outputs": [],
   "execution_count": null
  },
  {
   "metadata": {},
   "cell_type": "code",
   "source": [
    "si_scores = {\n",
    "    203: [0.0, 0.0],\n",
    "    201: [0.0, 0.0],\n",
    "    204: [0.0, 0.0],\n",
    "    202: [0.0, 0.0],\n",
    "    207: [0.0, 0.0],\n",
    "    206: [0.011904762, 0.0],\n",
    "    208: [0.077380952, 0.0],\n",
    "    209: [0.238095238, 0.079365079],\n",
    "    210: [0.0, 0.0],\n",
    "    211: [0.0, 0.0],\n",
    "    212: [0.290000000, 0.080000000],\n",
    "    306: [0.404761905, 0.174603175],\n",
    "    307: [0.386904762, 0.063492063],\n",
    "    308: [0.250000000, 0.0],\n",
    "    309: [0.0, 0.0],\n",
    "    310: [0.0, 0.0],\n",
    "    311: [0.017441860, 0.0],\n",
    "    313: [0.250000000, 0.079365079],\n",
    "    314: [0.660714286, 0.301587302],\n",
    "    315: [0.029761905, 0.015873016],\n",
    "    316: [0.892857143, 0.317460317],\n",
    "    317: [0.571428571, 0.0],\n",
    "    318: [0.0, 0.0],\n",
    "    320: [0.095238095, 0.023809524],\n",
    "    321: [0.0, 0.0],\n",
    "    323: [0.0, 0.0],\n",
    "    322: [0.086206897, 0.0],\n",
    "    205: [0.07738095, 0.0],\n",
    "    301: [0, 0.],\n",
    "    304: [0, 0.]\n",
    "}"
   ],
   "id": "9baea6d275b802cf",
   "outputs": [],
   "execution_count": null
  },
  {
   "cell_type": "code",
   "source": [
    "# Function to categorize 'Stim'\n",
    "def categorize_stim(stim):\n",
    "    for category, words in categories.items():\n",
    "        if stim in words:\n",
    "            return category\n",
    "    return 'Unknown'  # In case the word does not match any category\n",
    "\n",
    "# Create the 'Match' column based on 'Category' and 'BlockType'\n",
    "def match_category(row):\n",
    "    if row['BlockType'] == 'life-me':\n",
    "        if row['Category'] in ['Life', 'Me']:\n",
    "            return 1\n",
    "    elif row['BlockType'] == 'death-me':\n",
    "        if row['Category'] in ['Death', 'Me']:\n",
    "            return 1\n",
    "    return 0\n",
    "\n",
    "# Create the 'Type' column where 'life-me' is mapped to 1 and 'death-me' to 2\n",
    "def map_type(block_type):\n",
    "    if block_type == 'life-me':\n",
    "        return 1\n",
    "    elif block_type == 'death-me':\n",
    "        return 2\n",
    "    return 0"
   ],
   "metadata": {
    "collapsed": false
   },
   "id": "47fe7539",
   "outputs": [],
   "execution_count": null
  },
  {
   "metadata": {},
   "cell_type": "code",
   "source": [
    "import os\n",
    "import re\n",
    "\n",
    "mdd_dir = '/Users/applepie/Library/CloudStorage/OneDrive-WorcesterPolytechnicInstitute(wpi.edu)/toi4_new 2/mdd'\n",
    "mdd_paths = [('mdd', f'{mdd_dir}/{subject}/1/') for subject in os.listdir(mdd_dir) if subject.startswith('3') or subject.startswith('2')]\n",
    "\n",
    "ctl_dir = '/Users/applepie/Library/CloudStorage/OneDrive-WorcesterPolytechnicInstitute(wpi.edu)/ctl'\n",
    "ctl_paths = [('ctl', f'{ctl_dir}/{subject}/1/') for subject in os.listdir(ctl_dir) if subject.startswith('3') or subject.startswith('2')]\n",
    "\n",
    "paths = mdd_paths + ctl_paths\n",
    "subject_df = pd.DataFrame()\n",
    "for i, (subject_type, path) in enumerate(paths):\n",
    "    subject_id = path[-6:-3]\n",
    "    # disregard outlier\n",
    "    if subject_id == '209':\n",
    "        continue\n",
    "        \n",
    "    filenames = os.listdir(path)\n",
    "    csv_filename = [filename for filename in filenames if re.search('toi4iat.*metrics.csv$', filename)][0]\n",
    "    point = pd.read_csv(f'{path}/{csv_filename}')\n",
    "    point['subject_type'] = subject_type\n",
    "    point['subject_id'] = subject_id\n",
    "    point['psi_score'] = si_scores[int(subject_id)][0]\n",
    "    point['asi_score'] = si_scores[int(subject_id)][1]\n",
    "    subject_df = pd.concat([subject_df, point], ignore_index=True)\n",
    "    \n",
    "subject_df = subject_df[subject_df['BlockNumber'] >= 0] \n",
    "subject_df = subject_df[subject_df['ResponseTime'] > 0]\n",
    "subject_df['high_psi'] = subject_df['psi_score'] > .05\n",
    "subject_df['high_asi'] = subject_df['asi_score'] > .05\n",
    "subject_df['Category'] = subject_df['Stim'].apply(categorize_stim)\n",
    "subject_df['Match'] = subject_df.apply(match_category, axis=1)\n",
    "subject_df"
   ],
   "id": "72cbb607c20f1cc5",
   "outputs": [],
   "execution_count": null
  },
  {
   "metadata": {},
   "cell_type": "code",
   "source": [
    "block_counts = subject_df.groupby(['subject_id'])['BlockNumber'].nunique()\n",
    "subjects_to_keep = block_counts[block_counts > 6].index\n",
    "filtered_df = subject_df[subject_df['subject_id'].isin(subjects_to_keep)]\n",
    "mean_rt = filtered_df.groupby(['subject_id', 'Match', 'subject_type', 'BlockNumber'])['ResponseTime'].mean().reset_index(name='ResponseTime')\n",
    "index_columns = ['subject_id', 'Match', 'subject_type']\n",
    "pivot_df = mean_rt.pivot_table(index=index_columns, columns=mean_rt.groupby(index_columns).cumcount(), values='ResponseTime')"
   ],
   "id": "b0192640b52837d3",
   "outputs": [],
   "execution_count": null
  },
  {
   "metadata": {},
   "cell_type": "code",
   "source": [
    "from sklearn.decomposition import PCA\n",
    "\n",
    "projected_points = PCA(n_components=2).fit_transform(pivot_df)\n",
    "projected_df = pd.DataFrame(projected_points, index=pivot_df.index, columns=['PC1', 'PC2']).reset_index()\n",
    "projected_df"
   ],
   "id": "4fc753fbbca72aca",
   "outputs": [],
   "execution_count": null
  },
  {
   "metadata": {},
   "cell_type": "code",
   "source": [
    "import matplotlib.pyplot as plt\n",
    "\n",
    "mdd_match = projected_df[projected_df['Match'].astype(bool) & (projected_df['subject_type'] == 'mdd')]\n",
    "mdd_no_match = projected_df[~projected_df['Match'].astype(bool) & (projected_df['subject_type'] == 'mdd')]\n",
    "ctl_match = projected_df[projected_df['Match'].astype(bool) & (projected_df['subject_type'] == 'ctl')]\n",
    "ctl_no_match = projected_df[~projected_df['Match'].astype(bool) & (projected_df['subject_type'] == 'ctl')]\n",
    "\n",
    "plt.title('PCA')\n",
    "plt.scatter(mdd_match['PC1'], mdd_match['PC2'], label='mdd match')\n",
    "plt.scatter(mdd_no_match['PC1'], mdd_no_match['PC2'], label='mdd no match')\n",
    "plt.scatter(ctl_match['PC1'], ctl_match['PC2'], label='ctl match')\n",
    "plt.scatter(ctl_no_match['PC1'], ctl_no_match['PC2'], label='mdd match')\n",
    "plt.xlabel('PC1')\n",
    "plt.ylabel('PC2')\n",
    "plt.legend()"
   ],
   "id": "e046b7a284e6378f",
   "outputs": [],
   "execution_count": null
  },
  {
   "metadata": {},
   "cell_type": "code",
   "source": [
    "from sklearn.manifold import TSNE\n",
    "\n",
    "seed = 2\n",
    "perplexity = 5\n",
    "projected_points = TSNE(n_components=2, random_state=seed, perplexity=perplexity).fit_transform(pivot_df)\n",
    "projected_df = pd.DataFrame(projected_points, index=pivot_df.index, columns=['TSNE 1', 'TSNE 2']).reset_index()"
   ],
   "id": "1eaa769aa42befb8",
   "outputs": [],
   "execution_count": null
  },
  {
   "metadata": {},
   "cell_type": "code",
   "source": [
    "mdd_match = projected_df[projected_df['Match'].astype(bool) & (projected_df['subject_type'] == 'mdd')]\n",
    "mdd_no_match = projected_df[~projected_df['Match'].astype(bool) & (projected_df['subject_type'] == 'mdd')]\n",
    "ctl_match = projected_df[projected_df['Match'].astype(bool) & (projected_df['subject_type'] == 'ctl')]\n",
    "ctl_no_match = projected_df[~projected_df['Match'].astype(bool) & (projected_df['subject_type'] == 'ctl')]\n",
    "\n",
    "plt.title(f'TSNE (seed={seed}, perplexity={perplexity})')\n",
    "plt.scatter(mdd_match['TSNE 1'], mdd_match['TSNE 2'], label='mdd match')\n",
    "plt.scatter(mdd_no_match['TSNE 1'], mdd_no_match['TSNE 2'], label='mdd no match')\n",
    "plt.scatter(ctl_match['TSNE 1'], ctl_match['TSNE 2'], label='ctl match')\n",
    "plt.scatter(ctl_no_match['TSNE 1'], ctl_no_match['TSNE 2'], label='mdd match')\n",
    "plt.xlabel('TSNE 1')\n",
    "plt.ylabel('TSNE 2')\n",
    "plt.legend()"
   ],
   "id": "fcb3ea9b44dbbecb",
   "outputs": [],
   "execution_count": null
  },
  {
   "cell_type": "code",
   "source": "",
   "metadata": {
    "collapsed": false
   },
   "id": "b49653b10dbfee49",
   "outputs": [],
   "execution_count": null
  },
  {
   "metadata": {},
   "cell_type": "code",
   "source": [
    "augmented_df = subject_df\n",
    "# extract features \n",
    "augmented_df['incongruent'] = 1 - augmented_df['Match']\n",
    "augmented_df['life-block'] = (subject_df['BlockType'] == 'life-me').astype(int)\n",
    "augmented_df['death-block'] = (subject_df['BlockType'] == 'death-me').astype(int)\n",
    "# indicator for stim types\n",
    "augmented_df['me-stim'] = (augmented_df['Stim'].isin(categories['Me'])).astype(int)\n",
    "augmented_df['not-me-stim'] = (augmented_df['Stim'].isin(categories['Not me'])).astype(int)\n",
    "augmented_df['life-stim'] = (augmented_df['Stim'].isin(categories['Life'])).astype(int)\n",
    "augmented_df['death-stim'] = (augmented_df['Stim'].isin(categories['Death'])).astype(int)\n",
    "\n",
    "# go over all possible block type + stim type combo's\n",
    "augmented_df['life-block me-stim'] = augmented_df['life-block'] & augmented_df['me-stim']\n",
    "augmented_df['life-block not-me-stim'] = augmented_df['life-block'] & augmented_df['not-me-stim']\n",
    "augmented_df['life-block life-stim'] = augmented_df['life-block'] & augmented_df['life-stim']\n",
    "augmented_df['life-block death-stim'] = augmented_df['life-block'] & augmented_df['death-stim']\n",
    "\n",
    "augmented_df['death-block me-stim'] = augmented_df['death-block'] & augmented_df['me-stim']\n",
    "augmented_df['death-block not-me-stim'] = augmented_df['death-block'] & augmented_df['not-me-stim']\n",
    "augmented_df['death-block life-stim'] = augmented_df['death-block'] & augmented_df['life-stim']\n",
    "augmented_df['death-block death-stim'] = augmented_df['death-block'] & augmented_df['death-stim']"
   ],
   "id": "4037ee42f2047865",
   "outputs": [],
   "execution_count": null
  },
  {
   "metadata": {},
   "cell_type": "code",
   "source": [
    "import statsmodels.api as sm\n",
    "from sklearn.linear_model import LinearRegression\n",
    "from functools import partial\n",
    "\n",
    "def get_sig_coef(group, columns):\n",
    "    x = group[columns].to_numpy()\n",
    "    x = sm.add_constant(x)\n",
    "    y = np.log(group['ResponseTime'])\n",
    "    sm_model = sm.OLS(y, x).fit()\n",
    "    is_sig = sm_model.pvalues < .05\n",
    "    return is_sig[1:].astype(int)\n",
    "\n",
    "def get_param_rt(group, columns):\n",
    "    x = group[columns].to_numpy()\n",
    "    x = sm.add_constant(x)\n",
    "    y = np.log(group['ResponseTime'])\n",
    "    sm_model = sm.OLS(y, x).fit()\n",
    "    return sm_model.params[1:]"
   ],
   "id": "c38b65e4414cddaf",
   "outputs": [],
   "execution_count": null
  },
  {
   "metadata": {},
   "cell_type": "code",
   "source": [
    "mdd_df = subject_df[subject_df['subject_type'] == 'mdd']\n",
    "ctl_df = subject_df[subject_df['subject_type'] == 'ctl']"
   ],
   "id": "cacaf248b9233271",
   "outputs": [],
   "execution_count": null
  },
  {
   "metadata": {},
   "cell_type": "code",
   "source": [
    "model_cats = [\n",
    "    ['life-block', 'incongruent'],\n",
    "    ['me-stim', 'not-me-stim', 'life-stim', 'life-block'],\n",
    "    ['life-block me-stim', 'life-block not-me-stim', 'life-block life-stim', 'life-block death-stim', 'death-block me-stim', 'death-block not-me-stim', 'death-block life-stim'],\n",
    "    ['life-block'],\n",
    "    ['life-block', 'me-stim']\n",
    "]"
   ],
   "id": "e6a27e07cd44397c",
   "outputs": [],
   "execution_count": null
  },
  {
   "metadata": {},
   "cell_type": "code",
   "source": [
    "import matplotlib.ticker as mtick\n",
    "\n",
    "def plot_sig_counts(df, columns, subject_type):\n",
    "    counts = df.groupby('subject_id').apply(partial(get_sig_coef, columns=columns), include_groups=False).agg('sum')\n",
    "    counts /= df['subject_id'].nunique()\n",
    "    counts *= 100\n",
    "    \n",
    "    columns_newline = [re.sub('\\s', '\\n', column) for column in columns]\n",
    "    plt.bar(columns_newline, counts)\n",
    "    plt.xticks(fontsize=8)\n",
    "    plt.title(f'% Significant ({subject_type})')\n",
    "    plt.gca().yaxis.set_major_formatter(mtick.PercentFormatter())\n",
    "    plt.show()\n",
    "    \n",
    "for cats in model_cats:\n",
    "    plot_sig_counts(mdd_df, cats, 'mdd')\n",
    "    plot_sig_counts(ctl_df, cats, 'ctl')"
   ],
   "id": "bb6c74f6ebaadc16",
   "outputs": [],
   "execution_count": null
  },
  {
   "metadata": {},
   "cell_type": "code",
   "source": [
    "def params_boxplot(df, columns, subject_type):\n",
    "    params = df.groupby('subject_id').apply(partial(get_param_rt, columns=columns), include_groups=False)\n",
    "    columns_newline = [re.sub('\\s', '\\n', column) for column in columns]\n",
    "    plt.boxplot(params)\n",
    "    plt.xticks(np.arange(1, len(columns_newline)+1), columns_newline, fontsize=8)\n",
    "    plt.title(f'LR params ({subject_type})')\n",
    "    plt.show()\n",
    "    \n",
    "def params_boxplot_compare(df1, df2, columns, df1_type, df2_type):\n",
    "    params1 = df1.groupby('subject_id').apply(partial(get_param_rt, columns=columns), include_groups=False)\n",
    "    params2 = df2.groupby('subject_id').apply(partial(get_param_rt, columns=columns), include_groups=False)\n",
    "    \n",
    "    columns_newline = [re.sub('\\s', '\\n', column) for column in columns] * 2\n",
    "    plt.boxplot(params1)\n",
    "    plt.boxplot(params2, positions=np.arange(len(columns) + 1,len(columns_newline) + 1))\n",
    "    \n",
    "    plt.xticks(np.arange(1, 2 * len(columns)+1), columns_newline, fontsize=5)\n",
    "    plt.title(f'LR params ({df1_type} vs {df2_type})')\n",
    "    plt.show()\n",
    "    \n",
    "for cats in model_cats:\n",
    "    params_boxplot(mdd_df, cats, 'mdd')\n",
    "    params_boxplot(ctl_df, cats, 'ctl')\n",
    "    \n",
    "for cats in model_cats:\n",
    "    params_boxplot_compare(ctl_df, mdd_df, cats, 'ctl', 'mdd')\n",
    "    params_boxplot_compare(ctl_df, mdd_df, cats, 'ctl', 'mdd')"
   ],
   "id": "a15f0464a58e536d",
   "outputs": [],
   "execution_count": null
  },
  {
   "metadata": {},
   "cell_type": "code",
   "source": [
    "def plot_2d_coef(df1, df2, col1, col2, df1_type, df2_type):\n",
    "    params1 = df1.groupby('subject_id').apply(partial(get_param_rt, columns=[col1, col2]), include_groups=False)\n",
    "    params2 = df2.groupby('subject_id').apply(partial(get_param_rt, columns=[col1, col2]), include_groups=False)\n",
    "\n",
    "    plt.scatter(params1['x1'], params1['x2'], label=df1_type)\n",
    "    plt.scatter(params2['x1'], params2['x2'], label=df2_type)\n",
    "    plt.xlabel(f'coefficient of {col1}')\n",
    "    plt.ylabel(f'coefficient of {col2}')\n",
    "    plt.title(f'Coefficient Scatter Plot')\n",
    "    plt.legend()\n",
    "\n",
    "plot_2d_coef(ctl_df, mdd_df, 'me-stim', 'life-block', 'ctl', 'mdd')\n",
    "\n",
    "\n",
    "# next thing: try asi/psi\n",
    "# do logistic regression + decision boundary\n",
    "# plot each coefficient separately"
   ],
   "id": "e9a7f2f2b369e99e",
   "outputs": [],
   "execution_count": null
  },
  {
   "cell_type": "code",
   "source": [
    "from sklearn.neighbors import KNeighborsClassifier\n",
    "from matplotlib.colors import ListedColormap\n",
    "import statsmodels.api as sm\n",
    "import numpy as np \n",
    "\n",
    "\n",
    "params = subject_df.groupby(['subject_id', 'subject_type', 'psi_score', 'asi_score']).apply(partial(get_param_rt, columns=['life-block', 'incongruent']), include_groups=False).reset_index()\n",
    "n_neighbors = 4\n",
    "knn = KNeighborsClassifier(n_neighbors=n_neighbors)\n",
    "knn.fit(params[['x1', 'x2']].to_numpy(), params['subject_type'])\n",
    "\n",
    "x_min = params['x1'].min() - .05\n",
    "x_max = params['x1'].max() + .05\n",
    "\n",
    "y_min = params['x2'].min() - .05\n",
    "y_max = params['x2'].max() + .05\n",
    "\n",
    "xx, yy = np.meshgrid(np.arange(x_min, x_max, 0.01),\n",
    "                     np.arange(y_min, y_max, 0.01))\n",
    "\n",
    "Z = knn.predict(np.c_[xx.ravel(), yy.ravel()])\n",
    "Z = Z.reshape(xx.shape)\n",
    "\n",
    "cmap_light = ListedColormap(['#FFAAAA', '#AAAAFF'])\n",
    "cmap_bold = ['#FF0000', '#0000FF']\n",
    "\n",
    "plt.xlim(xx.min(), xx.max())\n",
    "plt.ylim(yy.min(), yy.max())\n",
    "plt.contourf(xx, yy, Z == 'ctl', cmap=cmap_light)\n",
    "ctl_params = params[params['subject_type'] == 'ctl']\n",
    "mdd_params = params[params['subject_type'] == 'mdd']\n",
    "plt.scatter(ctl_params['x1'], ctl_params['x2'], label='ctl patient', edgecolor='k', color='blue')\n",
    "plt.scatter(mdd_params['x1'], mdd_params['x2'], label='mdd patient', edgecolor='k', color='red')\n",
    "plt.xlabel('$b_1$ (block life-me indicator coef)')\n",
    "plt.ylabel('$b_2$ (incongruent coef)')\n",
    "plt.title(f'KNN (k={n_neighbors}) (with passive SI scores as label)')\n",
    "plt.legend()\n",
    "\n",
    "for i, row in params.iterrows():\n",
    "    psi_score = row['psi_score']\n",
    "    plt.text(row['x1'], row['x2'] + .005, f'{psi_score:.2f}',fontsize='8', ha='center', va='bottom') \n",
    "   \n",
    "plt.show()\n",
    "\n",
    "plt.xlim(xx.min(), xx.max())\n",
    "plt.ylim(yy.min(), yy.max())\n",
    "plt.contourf(xx, yy, Z == 'ctl', cmap=cmap_light)\n",
    "ctl_params = params[params['subject_type'] == 'ctl']\n",
    "mdd_params = params[params['subject_type'] == 'mdd']\n",
    "plt.scatter(ctl_params['x1'], ctl_params['x2'], label='ctl patient', edgecolor='k', color='blue')\n",
    "plt.scatter(mdd_params['x1'], mdd_params['x2'], label='mdd patient', edgecolor='k', color='red')\n",
    "plt.xlabel('$b_1$ (block life-me indicator coef)')\n",
    "plt.ylabel('$b_2$ (incongruent coef)')\n",
    "plt.title(f'KNN (k={n_neighbors}) (with active SI scores as label)')\n",
    "plt.legend()\n",
    "\n",
    "for i, row in params.iterrows():\n",
    "    asi_score = row['asi_score']\n",
    "    plt.text(row['x1'], row['x2'] + .005, f'{asi_score:.2f}',fontsize='8', ha='center', va='bottom') "
   ],
   "metadata": {
    "collapsed": false
   },
   "id": "50b9cb948bed95fa",
   "outputs": [],
   "execution_count": null
  },
  {
   "metadata": {
    "ExecuteTime": {
     "end_time": "2024-09-17T22:03:40.544179Z",
     "start_time": "2024-09-17T22:03:40.539430Z"
    }
   },
   "cell_type": "code",
   "source": [
    "def get_sig_coef_log_reg(group, columns):\n",
    "    x = group[columns].to_numpy()\n",
    "    x = sm.add_constant(x)\n",
    "    y = group['high_asi']\n",
    "    sm_model = sm.Logit(y, x).fit()\n",
    "    is_sig = sm_model.pvalues < .05\n",
    "    return is_sig[1:].astype(int)\n",
    "\n",
    "def plot_sig_counts(df, columns, subject_type):\n",
    "    counts = df.groupby('subject_id').apply(partial(get_sig_coef_log_reg, columns=columns), include_groups=False).agg('sum')\n",
    "    counts /= df['subject_id'].nunique()\n",
    "    counts *= 100\n",
    "    \n",
    "    columns_newline = [re.sub('\\s', '\\n', column) for column in columns]\n",
    "    plt.bar(columns_newline, counts)\n",
    "    plt.xticks(fontsize=8)\n",
    "    plt.title(f'% Significant ({subject_type})')\n",
    "    plt.gca().yaxis.set_major_formatter(mtick.PercentFormatter())\n",
    "    plt.show()"
   ],
   "id": "468371c876e706b8",
   "outputs": [],
   "execution_count": 480
  },
  {
   "metadata": {
    "ExecuteTime": {
     "end_time": "2024-09-17T22:11:35.403639Z",
     "start_time": "2024-09-17T22:11:35.386975Z"
    }
   },
   "cell_type": "code",
   "source": [
    "at_least1 = False\n",
    "for cats in model_cats:\n",
    "    x = subject_df[cats].to_numpy()\n",
    "    x = sm.add_constant(x)\n",
    "    y = subject_df['high_psi']\n",
    "    sm_model = sm.Logit(y, x).fit()\n",
    "    is_sig = sm_model.pvalues < .05\n",
    "    if np.any(is_sig[1:] > 0):\n",
    "        at_least1 = True\n",
    "        print(is_sig[1:])\n",
    "        \n",
    "at_least1"
   ],
   "id": "11c3b7d58ee1bbbc",
   "outputs": [
    {
     "name": "stdout",
     "output_type": "stream",
     "text": [
      "Optimization terminated successfully.\n",
      "         Current function value: 0.692662\n",
      "         Iterations 3\n",
      "Optimization terminated successfully.\n",
      "         Current function value: 0.692675\n",
      "         Iterations 3\n",
      "Optimization terminated successfully.\n",
      "         Current function value: 0.692659\n",
      "         Iterations 3\n",
      "Optimization terminated successfully.\n",
      "         Current function value: 0.692689\n",
      "         Iterations 3\n",
      "Optimization terminated successfully.\n",
      "         Current function value: 0.692682\n",
      "         Iterations 3\n"
     ]
    },
    {
     "data": {
      "text/plain": [
       "False"
      ]
     },
     "execution_count": 493,
     "metadata": {},
     "output_type": "execute_result"
    }
   ],
   "execution_count": 493
  },
  {
   "metadata": {
    "ExecuteTime": {
     "end_time": "2024-09-17T22:14:29.677232Z",
     "start_time": "2024-09-17T22:14:29.661482Z"
    }
   },
   "cell_type": "code",
   "source": [
    "at_least1 = False\n",
    "for cats in model_cats:\n",
    "    x = subject_df[cats].to_numpy()\n",
    "    x = sm.add_constant(x)\n",
    "    y = subject_df['high_asi']\n",
    "    sm_model = sm.Logit(y, x).fit()\n",
    "    is_sig = sm_model.pvalues < .05\n",
    "    if np.any(is_sig[1:] > 0):\n",
    "        at_least1 = True\n",
    "        print(is_sig[1:])\n",
    "        \n",
    "at_least1"
   ],
   "id": "fc6a2af7108d10dc",
   "outputs": [
    {
     "name": "stdout",
     "output_type": "stream",
     "text": [
      "Optimization terminated successfully.\n",
      "         Current function value: 0.647906\n",
      "         Iterations 4\n",
      "Optimization terminated successfully.\n",
      "         Current function value: 0.647914\n",
      "         Iterations 4\n",
      "Optimization terminated successfully.\n",
      "         Current function value: 0.647905\n",
      "         Iterations 4\n",
      "Optimization terminated successfully.\n",
      "         Current function value: 0.647920\n",
      "         Iterations 4\n",
      "Optimization terminated successfully.\n",
      "         Current function value: 0.647917\n",
      "         Iterations 4\n"
     ]
    },
    {
     "data": {
      "text/plain": [
       "False"
      ]
     },
     "execution_count": 497,
     "metadata": {},
     "output_type": "execute_result"
    }
   ],
   "execution_count": 497
  }
 ],
 "metadata": {
  "kernelspec": {
   "display_name": "Python 3 (ipykernel)",
   "language": "python",
   "name": "python3"
  },
  "language_info": {
   "codemirror_mode": {
    "name": "ipython",
    "version": 3
   },
   "file_extension": ".py",
   "mimetype": "text/x-python",
   "name": "python",
   "nbconvert_exporter": "python",
   "pygments_lexer": "ipython3",
   "version": "3.10.9"
  }
 },
 "nbformat": 4,
 "nbformat_minor": 5
}
